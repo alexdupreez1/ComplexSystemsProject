{
 "cells": [
  {
   "cell_type": "code",
   "execution_count": null,
   "metadata": {},
   "outputs": [],
   "source": [
    "import numpy as np\n",
    "\n",
    "information = np.array([0,0,10,0,0],dtype=float)\n",
    "\n",
    "for t in range(10):\n",
    "    #information += np.array([np.random.uniform(0,1) for i in range(len(information))])\n",
    "\n",
    "    while np.sum(information > 1)>0:\n",
    "\n",
    "        index = np.where(information >=1) #List of indices\n",
    "        print(information)\n",
    "        #print(information[index])\n",
    "        #print(index)\n",
    "        index = index[0]\n",
    "        distributed_value = 0.9 * (information[index] / 2) \n",
    "        information[index] = 0\n",
    "        information[index-1] += distributed_value\n",
    "        information[(index+1) % len(information)] += distributed_value\n",
    "\n",
    "\n",
    "print(information)\n",
    "\n"
   ]
  }
 ],
 "metadata": {
  "kernelspec": {
   "display_name": "base",
   "language": "python",
   "name": "python3"
  },
  "language_info": {
   "codemirror_mode": {
    "name": "ipython",
    "version": 3
   },
   "file_extension": ".py",
   "mimetype": "text/x-python",
   "name": "python",
   "nbconvert_exporter": "python",
   "pygments_lexer": "ipython3",
   "version": "3.11.4"
  }
 },
 "nbformat": 4,
 "nbformat_minor": 2
}
